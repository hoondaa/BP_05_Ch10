{
  "nbformat": 4,
  "nbformat_minor": 0,
  "metadata": {
    "colab": {
      "provenance": [],
      "authorship_tag": "ABX9TyMD6M/j7aev19g4co/LXa9S",
      "include_colab_link": true
    },
    "kernelspec": {
      "name": "python3",
      "display_name": "Python 3"
    },
    "language_info": {
      "name": "python"
    }
  },
  "cells": [
    {
      "cell_type": "markdown",
      "metadata": {
        "id": "view-in-github",
        "colab_type": "text"
      },
      "source": [
        "<a href=\"https://colab.research.google.com/github/hoondaa/BP_05_Ch10/blob/main/BP_05_EX_Ch10.ipynb\" target=\"_parent\"><img src=\"https://colab.research.google.com/assets/colab-badge.svg\" alt=\"Open In Colab\"/></a>"
      ]
    },
    {
      "cell_type": "code",
      "execution_count": null,
      "metadata": {
        "id": "fRsgxrDYkQ4d"
      },
      "outputs": [],
      "source": [
        "from tkinter import Tk, Label, Button\n",
        "\n",
        "def greet():\n",
        " print(\"파이썬에 오신 것을 환영합니다. \")\n",
        "\n",
        "window = Tk()\n",
        "label = Label(window, text=\"간단한 GUI 프로그램!\")\n",
        "label.pack()\n",
        "\n",
        "greet_button = Button(window, text=\"환영합니다.\", command=greet)\n",
        "greet_button.pack()\n",
        "\n",
        "close_button = Button(window, text=\"종료\", command=window.quit)\n",
        "close_button.pack()\n",
        "\n",
        "window.mainloop()"
      ]
    },
    {
      "cell_type": "code",
      "source": [
        "from tkinter import Tk, Label, Button, Entry, IntVar, END, W, E\n",
        "\n",
        "def update_add():\n",
        " update(\"add\")\n",
        "\n",
        "def update_subtract():\n",
        " update(\"subtract\")\n",
        "\n",
        "def update_reset():\n",
        " update(\"reset\")\n",
        "\n",
        "window = Tk()\n",
        "total = 0\n",
        "sum = Label(window)\n",
        "sum.grid(row=0, column=1, columnspan=2)\n",
        "\n",
        "label = Label(window, text=\"현재 합계:\")\n",
        "label.grid(row=0, column=0)\n",
        "\n",
        "entry = Entry(window)\n",
        "entry.grid(row=1, column=0, columnspan=3)\n",
        "\n",
        "add_button = Button(window, text=\"더하기(+)\", command=update_add)\n",
        "subtract_button = Button(window, text=\"빼기(-)\", command=update_subtract)\n",
        "reset_button = Button(window, text=\"초기화\", command=update_reset)\n",
        "\n",
        "add_button.grid(row=2, column=0)\n",
        "subtract_button.grid(row=2, column=1)\n",
        "reset_button.grid(row=2, column=2)\n",
        "\n",
        "def update(method):\n",
        " global total\n",
        " if method == \"add\":\n",
        "   total += int(entry.get())\n",
        " elif method == \"subtract\":\n",
        "   total -= int(entry.get())\n",
        " else:\n",
        "   total = 0\n",
        " sum['text'] = str(total)\n",
        " entry.delete(0, END)\n",
        " \n",
        "window.mainloop()"
      ],
      "metadata": {
        "id": "bRfJMqnrkl-q"
      },
      "execution_count": null,
      "outputs": []
    },
    {
      "cell_type": "code",
      "source": [
        "import random\n",
        "from tkinter import *\n",
        "\n",
        "window = Tk()\n",
        "secret_number = random.randint(1, 100)\n",
        "guess = None\n",
        "num_guesses = 0\n",
        "\n",
        "def guess_number():\n",
        " global num_guesses\n",
        " guess = int(entry.get())\n",
        " num_guesses += 1\n",
        " if guess == secret_number:\n",
        "   message = \"축하합니다!!\"\n",
        " elif guess < secret_number:\n",
        "   message = \"너무 낮아요!!\"\n",
        " else:\n",
        "   message = \"너무 높아요!!\"\n",
        " label['text']= message\n",
        "\n",
        "def reset():\n",
        " global num_guesses\n",
        " entry.delete(0, END)\n",
        " secret_number = random.randint(1, 100)\n",
        " guess = 0\n",
        " num_guesses = 0\n",
        " message = \"1부터 100사이의 숫자를 추측하시오\"\n",
        " label['text']= message\n",
        "\n",
        "message = \"1부터 100사이의 숫자를 추측하시오\"\n",
        "label = Label(window, text=message)\n",
        "entry = Entry(window)\n",
        "\n",
        "guess_button = Button(window, text=\"숫자를 입력\", command=guess_number)\n",
        "reset_button = Button(window, text=\"게임을 다시 실행\", command=reset)\n",
        "\n",
        "label.grid(row=0, column=0, columnspan=2, sticky=W+E)\n",
        "entry.grid(row=1, column=0, columnspan=2, sticky=W+E)\n",
        "guess_button.grid(row=2, column=0)\n",
        "reset_button.grid(row=2, column=1)\n",
        "\n",
        "window.mainloop()"
      ],
      "metadata": {
        "id": "vFy6IBiEkpNb"
      },
      "execution_count": null,
      "outputs": []
    },
    {
      "cell_type": "code",
      "source": [
        "from tkinter import *\n",
        "\n",
        "def do_convert():\n",
        "  inch_val = float(cvt_from.get())\n",
        "  centimeters_val = inch_val * 2.54\n",
        "  cvt_to.set('%s 센티미터' % centimeters_val)\n",
        "\n",
        "root = Tk()\n",
        "cvt_from = StringVar()\n",
        "cvt_to = StringVar()\n",
        "\n",
        "lbl = Label(root, text='인치를 센티미디로 변환하는 프로그램:')\n",
        "lbl.grid(row=0, column=0, columnspan=2)\n",
        "from_lbl = Label(root, text='인치를 입력하시오:')\n",
        "from_lbl.grid(row=1, column=0)\n",
        "from_entry = Entry(root, textvariable=cvt_from)\n",
        "from_entry.grid(row=1, column=1)\n",
        "\n",
        "to_lbl = Label(root, text='변환결과:')\n",
        "to_lbl.grid(row=2, column=0)\n",
        "result_lbl = Label(root,\n",
        "textvariable=cvt_to)\n",
        "result_lbl.grid(row=2, column=1)\n",
        "\n",
        "convert_btn = Button(root,\n",
        "                     text='변환!', command=do_convert)\n",
        "convert_btn.grid(row=3, column=1)\n",
        "root.mainloop()"
      ],
      "metadata": {
        "id": "CfBCTLzbkrEr"
      },
      "execution_count": null,
      "outputs": []
    },
    {
      "cell_type": "code",
      "source": [
        "from tkinter import *\n",
        "fields = '이름', '직업', '국적'\n",
        "\n",
        "def fetch(entries):\n",
        " for entry in entries:\n",
        "   field = entry[0]\n",
        "   text = entry[1].get()\n",
        "   print('%s: \"%s\"' % (field, text))\n",
        "\n",
        "def makeform(root, fields):\n",
        " entries = []\n",
        " for field in fields:\n",
        "   row = Frame(root)\n",
        "   lab = Label(row, width=15, text=field)\n",
        "   ent = Entry(row)\n",
        "   row.pack(side=TOP, fill=X)\n",
        "   lab.pack(side=LEFT)\n",
        "   ent.pack(side=RIGHT, expand=YES, fill=X)\n",
        "   entries.append((field, ent))\n",
        " return entries\n",
        " \n",
        "root = Tk()\n",
        "ents = makeform(root, fields)\n",
        "root.bind('<Return>', (lambda event, e=ents: fetch(e)))\n",
        "b1 = Button(root, text='보여주기',\n",
        " command=(lambda e=ents: fetch(e)))\n",
        "b1.pack(side=LEFT, padx=5, pady=5)\n",
        "b2 = Button(root, text='종료하기', command=root.quit)\n",
        "b2.pack(side=LEFT, padx=5, pady=5)\n",
        "root.mainloop()"
      ],
      "metadata": {
        "id": "YnNwxgo4ktHj"
      },
      "execution_count": null,
      "outputs": []
    },
    {
      "cell_type": "code",
      "source": [],
      "metadata": {
        "id": "Kthf4hDbwPBE"
      },
      "execution_count": null,
      "outputs": []
    }
  ]
}